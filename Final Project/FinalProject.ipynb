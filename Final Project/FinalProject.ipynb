{
  "nbformat": 4,
  "nbformat_minor": 0,
  "metadata": {
    "colab": {
      "name": "FinalProject.ipynb",
      "provenance": [],
      "collapsed_sections": []
    },
    "kernelspec": {
      "name": "python3",
      "display_name": "Python 3"
    }
  },
  "cells": [
    {
      "cell_type": "code",
      "metadata": {
        "id": "2fGg8X7T3A-b"
      },
      "source": [
        "class Employee():\r\n",
        "  employee_count = 0\r\n",
        "\r\n",
        "  def __init__(self, name, age):\r\n",
        "    self.name = name\r\n",
        "    self.age = age\r\n",
        "    self.language = set()  #in order to avoid duplication\r\n",
        "    Employee.employee_count += 1\r\n",
        "\r\n",
        "  def print_name(self):\r\n",
        "    print(self.name)\r\n",
        "\r\n",
        "  def print_age(self):\r\n",
        "    print(self.age)\r\n",
        "\r\n",
        "  def print_languages(self):\r\n",
        "    for i in self.language:\r\n",
        "      print(i, sep=\",\")\r\n",
        "\r\n",
        "  def add_language(self, new_language):\r\n",
        "    self.language.add(new_language)\r\n",
        "    print(\"Language added!\")\r\n",
        "\r\n",
        "  def speak_languages(self):\r\n",
        "    print(\"{} is {} years old.\".format(self.name,self.age) + \" He/She can speak {} \".format(len(self.language)) + \"languages:\")\r\n",
        "    for i in self.language:\r\n",
        "      print(i)\r\n",
        "\r\n",
        "  def total_employee(self):\r\n",
        "    return Employee.employee_count\r\n"
      ],
      "execution_count": 101,
      "outputs": []
    },
    {
      "cell_type": "code",
      "metadata": {
        "id": "Cd2680w-9BKW"
      },
      "source": [
        "class Manager(Employee):\r\n",
        "  manager_count = 0\r\n",
        "\r\n",
        "  def __init__(self,name, age):\r\n",
        "    super().__init__(name, age)\r\n",
        "    self.position = \"Manager\"\r\n",
        "    Manager.manager_count += 1\r\n",
        "\r\n",
        "  def printManagerInfo(self):\r\n",
        "   super().speak_languages() \r\n",
        "   print(\"He/She is a {}\".format(self.position))\r\n",
        "\r\n",
        "  def total_manager(self):\r\n",
        "    return Manager.manager_count\r\n"
      ],
      "execution_count": 102,
      "outputs": []
    },
    {
      "cell_type": "code",
      "metadata": {
        "id": "vHWcHuvBbAw3"
      },
      "source": [
        "def main():\r\n",
        "  employee1 = Employee(\"Cemal\", 22)\r\n",
        "  employee1.add_language(\"Turkish\")\r\n",
        "  employee1.add_language(\"English\")\r\n",
        "  employee1.add_language(\"Turkish\")\r\n",
        "  employee1.speak_languages()\r\n",
        "  print(\"------------------------------\")\r\n",
        "  employee2 = Employee(\"Ayşe\", 30)\r\n",
        "  employee2.add_language(\"Turkish\")\r\n",
        "  employee2.add_language(\"English\")\r\n",
        "  employee2.add_language(\"German\")\r\n",
        "  employee2.add_language(\"French\")\r\n",
        "  employee2.speak_languages()\r\n",
        "  print(\"------------------------------\")\r\n",
        "  employee3 = Employee(\"Buse\", 24)\r\n",
        "  employee3.add_language(\"Turkish\")\r\n",
        "  employee3.speak_languages()\r\n",
        "\r\n",
        "  print(\"------------------------------\")\r\n",
        "\r\n",
        "  manager1 = Manager(\"Ali\", 50)\r\n",
        "  manager1.add_language(\"Turkish\")\r\n",
        "  manager1.add_language(\"English\")\r\n",
        "  manager1.add_language(\"Japanese\")\r\n",
        "  manager1.printManagerInfo()"
      ],
      "execution_count": 103,
      "outputs": []
    },
    {
      "cell_type": "code",
      "metadata": {
        "colab": {
          "base_uri": "https://localhost:8080/"
        },
        "id": "5i3oiJpAjIjr",
        "outputId": "d1e6e1db-1b03-41a7-ee1b-23d686a7aaeb"
      },
      "source": [
        "if __name__ == \"__main__\":\r\n",
        "  main()\r\n"
      ],
      "execution_count": 104,
      "outputs": [
        {
          "output_type": "stream",
          "text": [
            "Language added!\n",
            "Language added!\n",
            "Language added!\n",
            "Cemal is 22 years old. He/She can speak 2 languages:\n",
            "English\n",
            "Turkish\n",
            "------------------------------\n",
            "Language added!\n",
            "Language added!\n",
            "Language added!\n",
            "Language added!\n",
            "Ayşe is 30 years old. He/She can speak 4 languages:\n",
            "French\n",
            "German\n",
            "English\n",
            "Turkish\n",
            "------------------------------\n",
            "Language added!\n",
            "Buse is 24 years old. He/She can speak 1 languages:\n",
            "Turkish\n",
            "------------------------------\n",
            "Language added!\n",
            "Language added!\n",
            "Language added!\n",
            "Ali is 50 years old. He/She can speak 3 languages:\n",
            "Japanese\n",
            "English\n",
            "Turkish\n",
            "He/She is a Manager\n"
          ],
          "name": "stdout"
        }
      ]
    }
  ]
}