{
  "nbformat": 4,
  "nbformat_minor": 0,
  "metadata": {
    "colab": {
      "name": "HW4.ipynb",
      "provenance": [],
      "collapsed_sections": []
    },
    "kernelspec": {
      "name": "python3",
      "display_name": "Python 3"
    }
  },
  "cells": [
    {
      "cell_type": "code",
      "metadata": {
        "id": "6FpFMtZsx-hT"
      },
      "source": [
        "class Animals():\r\n",
        "  def __init__(self, name, age):\r\n",
        "    self.name = name\r\n",
        "    self.age = age\r\n",
        "\r\n",
        "  def speak(self):\r\n",
        "    print(\"Hello, I'am \" + self.name + \".\" +\" I'am \" + self.age + \" years old.\")"
      ],
      "execution_count": 32,
      "outputs": []
    },
    {
      "cell_type": "code",
      "metadata": {
        "id": "KyRCsVAGyoNg"
      },
      "source": [
        "class Dog(Animals):\r\n",
        "  def __init__(self, name, age):\r\n",
        "    self.name = name\r\n",
        "    self.age = age\r\n",
        "    self.type = \"Dog\"\r\n",
        "\r\n",
        "  def woof(self):\r\n",
        "    print(self.type +\" \"+ self.name + \" says Woof!!!\")"
      ],
      "execution_count": 39,
      "outputs": []
    },
    {
      "cell_type": "code",
      "metadata": {
        "id": "UJlqfk5R0cvh"
      },
      "source": [
        "class Cat(Animals):\r\n",
        "  def __init__(self, name, age):\r\n",
        "    self.name = name\r\n",
        "    self.age = age\r\n",
        "    self.type = \"Cat\"\r\n",
        "\r\n",
        "  def meow(self):\r\n",
        "    print(self.type +\" \"+ self.name + \" says Meow!!!\")"
      ],
      "execution_count": 40,
      "outputs": []
    },
    {
      "cell_type": "code",
      "metadata": {
        "colab": {
          "base_uri": "https://localhost:8080/"
        },
        "id": "XZXzTyG30pXu",
        "outputId": "d6889d78-6ec3-43ff-f079-1ca5bd39fcd9"
      },
      "source": [
        "barney = Dog(\"Barney\",\"4\")\r\n",
        "barney.speak()\r\n",
        "barney.woof()\r\n",
        "\r\n",
        "missy = Cat(\"Missy\", \"10\")\r\n",
        "missy.speak()\r\n",
        "missy.meow()"
      ],
      "execution_count": 41,
      "outputs": [
        {
          "output_type": "stream",
          "text": [
            "Hello, I'am Barney. I'am 4 years old.\n",
            "Dog Barney says Woof!!!\n",
            "Hello, I'am Missy. I'am 10 years old.\n",
            "Cat Missy says Meow!!!\n"
          ],
          "name": "stdout"
        }
      ]
    }
  ]
}