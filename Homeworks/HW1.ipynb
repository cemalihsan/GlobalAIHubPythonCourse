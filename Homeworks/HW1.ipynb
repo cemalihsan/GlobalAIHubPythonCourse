{
  "nbformat": 4,
  "nbformat_minor": 0,
  "metadata": {
    "colab": {
      "name": "HW1.ipynb",
      "provenance": [],
      "collapsed_sections": []
    },
    "kernelspec": {
      "name": "python3",
      "display_name": "Python 3"
    }
  },
  "cells": [
    {
      "cell_type": "code",
      "metadata": {
        "id": "LtcIUfrP-sjm"
      },
      "source": [
        "#Create a List and swap half of the list with the other half the list and print the list."
      ],
      "execution_count": null,
      "outputs": []
    },
    {
      "cell_type": "code",
      "metadata": {
        "colab": {
          "base_uri": "https://localhost:8080/"
        },
        "id": "pSQoAsyV0jd1",
        "outputId": "953e525d-79fd-419b-8e85-ad9ab9297dad"
      },
      "source": [
        "array = [int(x) for x in input(\"Enter values: \").split()]\r\n",
        "print(array)"
      ],
      "execution_count": 11,
      "outputs": [
        {
          "output_type": "stream",
          "text": [
            "Enter values: 1 2 3 4 5 6 7\n",
            "[1, 2, 3, 4, 5, 6, 7]\n"
          ],
          "name": "stdout"
        }
      ]
    },
    {
      "cell_type": "code",
      "metadata": {
        "colab": {
          "base_uri": "https://localhost:8080/"
        },
        "id": "QHsQtYKN7fiB",
        "outputId": "a42c81a7-c480-45da-9fe1-c4a901dbf679"
      },
      "source": [
        "halfOfList = int(len(array)/2)\r\n",
        "\r\n",
        "if halfOfList%2 == 0:\r\n",
        "  for i in range(halfOfList):\r\n",
        "    temp = array[i]\r\n",
        "    array[i] = array[halfOfList+i]\r\n",
        "    array[halfOfList + i] = temp\r\n",
        "else:\r\n",
        "  for i in range(halfOfList):\r\n",
        "    temp = array[i]\r\n",
        "    array[i] = array[halfOfList + i + 1]\r\n",
        "    array[halfOfList + i + 1] = temp\r\n",
        "\r\n",
        "print(array)\r\n"
      ],
      "execution_count": 12,
      "outputs": [
        {
          "output_type": "stream",
          "text": [
            "[5, 6, 7, 4, 1, 2, 3]\n"
          ],
          "name": "stdout"
        }
      ]
    },
    {
      "cell_type": "code",
      "metadata": {
        "id": "jl1ifTcb_G_m"
      },
      "source": [
        "#Ask the user to input a single digit to a variable 'n'. Then, print all of the even numbers (including n)."
      ],
      "execution_count": null,
      "outputs": []
    },
    {
      "cell_type": "code",
      "metadata": {
        "colab": {
          "base_uri": "https://localhost:8080/"
        },
        "id": "ziQxRopN_YXH",
        "outputId": "4f0ac19f-b9e5-4a7d-f66d-68b506d356d5"
      },
      "source": [
        "while True:\r\n",
        "  try:\r\n",
        "    n = int(input(\"Enter a single digit number: \"))\r\n",
        "    if n > 0 and n <=9:\r\n",
        "      break\r\n",
        "    print(\"Invalid digit entered\")\r\n",
        "  except Exception as e:\r\n",
        "    print(e)\r\n"
      ],
      "execution_count": 23,
      "outputs": [
        {
          "output_type": "stream",
          "text": [
            "Enter a single digit number: 5\n"
          ],
          "name": "stdout"
        }
      ]
    },
    {
      "cell_type": "code",
      "metadata": {
        "colab": {
          "base_uri": "https://localhost:8080/"
        },
        "id": "_UyhC9Ya_kC7",
        "outputId": "e8c9379c-2d23-454f-8d47-530a04aa9ab0"
      },
      "source": [
        "evenList = []\r\n",
        "\r\n",
        "for element in range(n+1):\r\n",
        "  if element%2==0:\r\n",
        "    evenList.append(element)\r\n",
        "\r\n",
        "print(evenList)\r\n"
      ],
      "execution_count": 24,
      "outputs": [
        {
          "output_type": "stream",
          "text": [
            "[0, 2, 4]\n"
          ],
          "name": "stdout"
        }
      ]
    }
  ]
}