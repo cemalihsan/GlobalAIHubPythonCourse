{
  "nbformat": 4,
  "nbformat_minor": 0,
  "metadata": {
    "colab": {
      "name": "HW2.ipynb",
      "provenance": [],
      "collapsed_sections": []
    },
    "kernelspec": {
      "name": "python3",
      "display_name": "Python 3"
    }
  },
  "cells": [
    {
      "cell_type": "code",
      "metadata": {
        "id": "7RpMkcx1_j6M"
      },
      "source": [
        "#User login application:\r\n",
        "#Get username and password values from the user\r\n",
        "#Check the values in an if statement and tell the user if they were successful"
      ],
      "execution_count": null,
      "outputs": []
    },
    {
      "cell_type": "code",
      "metadata": {
        "id": "me0Yo_8V_8Hy"
      },
      "source": [
        "username = \"globalaihub\"\r\n",
        "password = \"password\""
      ],
      "execution_count": 2,
      "outputs": []
    },
    {
      "cell_type": "code",
      "metadata": {
        "colab": {
          "base_uri": "https://localhost:8080/"
        },
        "id": "gbeJ2YHiAmSM",
        "outputId": "36ea595a-38cd-421d-dc7a-9f400526a771"
      },
      "source": [
        "username_input = input(\"Username: \")\r\n",
        "password_input = input(\"Password: \")"
      ],
      "execution_count": 3,
      "outputs": [
        {
          "output_type": "stream",
          "text": [
            "Please enter your username: globalaihub\n",
            "Please enter your password: password\n"
          ],
          "name": "stdout"
        }
      ]
    },
    {
      "cell_type": "code",
      "metadata": {
        "colab": {
          "base_uri": "https://localhost:8080/"
        },
        "id": "ryxWjpURA5Gk",
        "outputId": "cb161d22-a27e-4b6a-ac9a-59b0d591552d"
      },
      "source": [
        "if(username == username_input and password == password_input):\r\n",
        "  print(\"Username and password are correct. Welcome!!!\")\r\n",
        "elif(username != username_input and password == password_input):\r\n",
        "  print(\"Username was incorrect!!!\")\r\n",
        "elif(username == username_input and password != password_input):\r\n",
        "  print(\"Password was incorrect!!!\")\r\n",
        "else:\r\n",
        "  print(\"Username and password are wrong. Please check it.\")"
      ],
      "execution_count": 4,
      "outputs": [
        {
          "output_type": "stream",
          "text": [
            "Username and password are correct. Welcome!!!\n"
          ],
          "name": "stdout"
        }
      ]
    },
    {
      "cell_type": "code",
      "metadata": {
        "id": "-FJIun29B9jV"
      },
      "source": [
        "#With Dictionary"
      ],
      "execution_count": null,
      "outputs": []
    },
    {
      "cell_type": "code",
      "metadata": {
        "id": "EtuV2XvtCCb3"
      },
      "source": [
        "user={\r\n",
        "    'username':\"globalaihub\",\r\n",
        "    'password':\"password\"\r\n",
        "}"
      ],
      "execution_count": 10,
      "outputs": []
    },
    {
      "cell_type": "code",
      "metadata": {
        "colab": {
          "base_uri": "https://localhost:8080/"
        },
        "id": "lDhpJgLDCNc9",
        "outputId": "db5c29cf-9926-4a5d-a0e6-c1b419a37e45"
      },
      "source": [
        "username_input = input(\"Username: \")\r\n",
        "password_input = input(\"Password: \")\r\n",
        "\r\n",
        "if(user[\"username\"] == username_input and user[\"password\"] == password_input):\r\n",
        "   print(\"Username and password are correct. Welcome!!!\")\r\n",
        "elif(user[\"username\"] != username_input and user[\"password\"] == password_input):\r\n",
        "  print(\"Username was incorrect!!!\")\r\n",
        "elif(user[\"username\"] == username_input and user[\"password\"] != password_input):\r\n",
        "   print(\"Password was incorrect!!!\")\r\n",
        "else:\r\n",
        "  print(\"Username and password are wrong. Please check it.\")\r\n",
        "    "
      ],
      "execution_count": 11,
      "outputs": [
        {
          "output_type": "stream",
          "text": [
            "Please enter your username: a\n",
            "Please enter your password: b\n",
            "globalaihub\n",
            "Username and password are wrong. Please check it.\n"
          ],
          "name": "stdout"
        }
      ]
    },
    {
      "cell_type": "code",
      "metadata": {
        "id": "kbhcQftzJNxx"
      },
      "source": [
        "#Different Dictionary Approch"
      ],
      "execution_count": null,
      "outputs": []
    },
    {
      "cell_type": "code",
      "metadata": {
        "id": "PUu4zD7XIe80"
      },
      "source": [
        "users={'user1':\"pass1\"}"
      ],
      "execution_count": 18,
      "outputs": []
    },
    {
      "cell_type": "code",
      "metadata": {
        "colab": {
          "base_uri": "https://localhost:8080/"
        },
        "id": "eKUExQQGIXVo",
        "outputId": "893a7f33-f37e-47a0-c9c2-6914de185b61"
      },
      "source": [
        "username=input(\"Username: \")\r\n",
        "password=input(\"Password: \")\r\n",
        "if username not in users:\r\n",
        "  print(\"Username and password are wrong. Please check it.\")\r\n",
        "elif users.get(username) == password:\r\n",
        "  print(\"Username and password are correct. Welcome!!!\")\r\n",
        "elif users.get(username) != password:\r\n",
        "  print(\"Incorrect!!!\")"
      ],
      "execution_count": 19,
      "outputs": [
        {
          "output_type": "stream",
          "text": [
            "Username: user1\n",
            "Password: pass1\n",
            "Username and password are correct. Welcome!!!\n"
          ],
          "name": "stdout"
        }
      ]
    }
  ]
}