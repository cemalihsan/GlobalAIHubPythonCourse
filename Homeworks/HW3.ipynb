{
  "nbformat": 4,
  "nbformat_minor": 0,
  "metadata": {
    "colab": {
      "name": "HW3.ipynb",
      "provenance": [],
      "collapsed_sections": []
    },
    "kernelspec": {
      "name": "python3",
      "display_name": "Python 3"
    }
  },
  "cells": [
    {
      "cell_type": "code",
      "metadata": {
        "id": "lL2M6217IFcC"
      },
      "source": [
        "#Finding prime numbers between 0 and 100"
      ],
      "execution_count": null,
      "outputs": []
    },
    {
      "cell_type": "code",
      "metadata": {
        "id": "2Z3O1MEQJqpt"
      },
      "source": [
        "start_value = 1\r\n",
        "end_value = 100\r\n"
      ],
      "execution_count": 88,
      "outputs": []
    },
    {
      "cell_type": "code",
      "metadata": {
        "id": "-p48qR_LIUWb"
      },
      "source": [
        "def primeNumbers(start, end):\r\n",
        "  for index in range(start + 1,end + 1):\r\n",
        "      for number in range(2,index):\r\n",
        "        if index%number == 0:\r\n",
        "          break\r\n",
        "      else:\r\n",
        "          print(index, sep=\" \")"
      ],
      "execution_count": 91,
      "outputs": []
    },
    {
      "cell_type": "code",
      "metadata": {
        "id": "J6QTkZGminOX",
        "outputId": "f8586e47-f54c-4c21-b3f2-d1f9d10cb5fe",
        "colab": {
          "base_uri": "https://localhost:8080/"
        }
      },
      "source": [
        "primeNumbers(start_value,end_value)"
      ],
      "execution_count": 92,
      "outputs": [
        {
          "output_type": "stream",
          "text": [
            "2\n",
            "3\n",
            "5\n",
            "7\n",
            "11\n",
            "13\n",
            "17\n",
            "19\n",
            "23\n",
            "29\n",
            "31\n",
            "37\n",
            "41\n",
            "43\n",
            "47\n",
            "53\n",
            "59\n",
            "61\n",
            "67\n",
            "71\n",
            "73\n",
            "79\n",
            "83\n",
            "89\n",
            "97\n"
          ],
          "name": "stdout"
        }
      ]
    }
  ]
}