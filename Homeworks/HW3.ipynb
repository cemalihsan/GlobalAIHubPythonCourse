{
  "nbformat": 4,
  "nbformat_minor": 0,
  "metadata": {
    "colab": {
      "name": "HW3.ipynb",
      "provenance": [],
      "collapsed_sections": []
    },
    "kernelspec": {
      "name": "python3",
      "display_name": "Python 3"
    }
  },
  "cells": [
    {
      "cell_type": "code",
      "metadata": {
        "id": "lL2M6217IFcC"
      },
      "source": [
        "#Finding prime numbers between 0 and 100"
      ],
      "execution_count": null,
      "outputs": []
    },
    {
      "cell_type": "code",
      "metadata": {
        "id": "2Z3O1MEQJqpt"
      },
      "source": [
        "start_value = 1\r\n",
        "end_value = 100\r\n",
        "\r\n",
        "prime_numbers = []\r\n",
        "notPrime_numbers = []"
      ],
      "execution_count": 17,
      "outputs": []
    },
    {
      "cell_type": "code",
      "metadata": {
        "id": "-p48qR_LIUWb"
      },
      "source": [
        "def primeNumbers(start, end):\r\n",
        "  notPrime = 0\r\n",
        "  for index in range(start,end + 1):\r\n",
        "    if index > 1:\r\n",
        "      for number in range(2,index):\r\n",
        "        if index%number == 0:\r\n",
        "          notPrime += 1\r\n",
        "          notPrime_numbers.append(index)\r\n",
        "          break\r\n",
        "      else:\r\n",
        "        prime_numbers.append(index)\r\n",
        "\r\n",
        "  print(\"Prime Numbers:\", prime_numbers)     \r\n",
        "  print(\"Total not prime numbers:\", notPrime)"
      ],
      "execution_count": 24,
      "outputs": []
    },
    {
      "cell_type": "code",
      "metadata": {
        "colab": {
          "base_uri": "https://localhost:8080/"
        },
        "id": "HyIh6AfdLHN1",
        "outputId": "55e4050b-3207-4cbc-e373-c5d480deab87"
      },
      "source": [
        "primeNumbers(start_value, end_value)"
      ],
      "execution_count": 25,
      "outputs": [
        {
          "output_type": "stream",
          "text": [
            "Prime Numbers: [2, 3, 5, 7, 11, 13, 17, 19, 23, 29, 31, 37, 41, 43, 47, 53, 59, 61, 67, 71, 73, 79, 83, 89, 97, 2, 3, 5, 7, 11, 13, 17, 19, 23, 29, 31, 37, 41, 43, 47, 53, 59, 61, 67, 71, 73, 79, 83, 89, 97, 2, 3, 5, 7, 11, 13, 17, 19, 23, 29, 31, 37, 41, 43, 47, 53, 59, 61, 67, 71, 73, 79, 83, 89, 97, 2, 3, 5, 7, 11, 13, 17, 19, 23, 29, 31, 37, 41, 43, 47, 53, 59, 61, 67, 71, 73, 79, 83, 89, 97]\n",
            "Total not prime numbers: 74\n"
          ],
          "name": "stdout"
        }
      ]
    }
  ]
}